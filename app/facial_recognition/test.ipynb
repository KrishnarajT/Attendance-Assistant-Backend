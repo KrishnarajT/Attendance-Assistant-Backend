{
 "cells": [
  {
   "cell_type": "code",
   "execution_count": 1,
   "id": "initial_id",
   "metadata": {
    "collapsed": true
   },
   "outputs": [],
   "source": [
    "# known students\n",
    "students = [\"krish\"]\n",
    "# known students faces by making a dictionary\n",
    "students_faces = {\n",
    "    \"krish\": [\n",
    "        \"../../images/known_faces/krish (1).jpg\",\n",
    "        \"../../images/known_faces/krish (2).JPG\",\n",
    "    ],\n",
    "    # \"parth\": \"parth.jpg\",\n",
    "    # \"karad\": \"karad.jpg\",\n",
    "    # \"saubhagya\": \"saubhagya.jpg\",\n",
    "    # \"avishkar\": \"avishkar.jpg\"\n",
    "}"
   ]
  },
  {
   "cell_type": "code",
   "execution_count": 2,
   "id": "9443a44e",
   "metadata": {},
   "outputs": [],
   "source": [
    "class_image = \"../../images/test/IMG20240124121038.jpg\""
   ]
  },
  {
   "cell_type": "code",
   "execution_count": 3,
   "id": "62314c1d",
   "metadata": {},
   "outputs": [],
   "source": [
    "# perform face recognition by creating encodings. use face_recognition library"
   ]
  },
  {
   "cell_type": "code",
   "execution_count": 6,
   "id": "14bcd9e9",
   "metadata": {},
   "outputs": [
    {
     "ename": "AttributeError",
     "evalue": "'ImageDraw' object has no attribute 'textsize'",
     "output_type": "error",
     "traceback": [
      "\u001b[1;31m---------------------------------------------------------------------------\u001b[0m",
      "\u001b[1;31mAttributeError\u001b[0m                            Traceback (most recent call last)",
      "Cell \u001b[1;32mIn[6], line 72\u001b[0m\n\u001b[0;32m     67\u001b[0m     \u001b[38;5;66;03m# You can also save a copy of the new image to disk if you want by uncommenting this line\u001b[39;00m\n\u001b[0;32m     68\u001b[0m     \u001b[38;5;66;03m# pil_image.save(\"image_with_boxes.jpg\")\u001b[39;00m\n\u001b[0;32m     71\u001b[0m known_face_encodings, known_face_names \u001b[38;5;241m=\u001b[39m get_encodings()\n\u001b[1;32m---> 72\u001b[0m \u001b[43mrecognize_faces\u001b[49m\u001b[43m(\u001b[49m\u001b[43mknown_face_encodings\u001b[49m\u001b[43m,\u001b[49m\u001b[43m \u001b[49m\u001b[43mknown_face_names\u001b[49m\u001b[43m,\u001b[49m\u001b[43m \u001b[49m\u001b[43mclass_image\u001b[49m\u001b[43m)\u001b[49m\n",
      "Cell \u001b[1;32mIn[6], line 53\u001b[0m, in \u001b[0;36mrecognize_faces\u001b[1;34m(known_face_encodings, known_face_names, class_image)\u001b[0m\n\u001b[0;32m     50\u001b[0m draw\u001b[38;5;241m.\u001b[39mrectangle(((left, top), (right, bottom)), outline\u001b[38;5;241m=\u001b[39m(\u001b[38;5;241m0\u001b[39m, \u001b[38;5;241m0\u001b[39m, \u001b[38;5;241m255\u001b[39m))\n\u001b[0;32m     52\u001b[0m \u001b[38;5;66;03m# Draw a label with a name below the face\u001b[39;00m\n\u001b[1;32m---> 53\u001b[0m text_width, text_height \u001b[38;5;241m=\u001b[39m \u001b[43mdraw\u001b[49m\u001b[38;5;241;43m.\u001b[39;49m\u001b[43mtextsize\u001b[49m(name)\n\u001b[0;32m     54\u001b[0m draw\u001b[38;5;241m.\u001b[39mrectangle(\n\u001b[0;32m     55\u001b[0m     ((left, bottom \u001b[38;5;241m-\u001b[39m text_height \u001b[38;5;241m-\u001b[39m \u001b[38;5;241m10\u001b[39m), (right, bottom)),\n\u001b[0;32m     56\u001b[0m     fill\u001b[38;5;241m=\u001b[39m(\u001b[38;5;241m0\u001b[39m, \u001b[38;5;241m0\u001b[39m, \u001b[38;5;241m255\u001b[39m),\n\u001b[0;32m     57\u001b[0m     outline\u001b[38;5;241m=\u001b[39m(\u001b[38;5;241m0\u001b[39m, \u001b[38;5;241m0\u001b[39m, \u001b[38;5;241m255\u001b[39m),\n\u001b[0;32m     58\u001b[0m )\n\u001b[0;32m     59\u001b[0m draw\u001b[38;5;241m.\u001b[39mtext((left \u001b[38;5;241m+\u001b[39m \u001b[38;5;241m6\u001b[39m, bottom \u001b[38;5;241m-\u001b[39m text_height \u001b[38;5;241m-\u001b[39m \u001b[38;5;241m5\u001b[39m), name, fill\u001b[38;5;241m=\u001b[39m(\u001b[38;5;241m255\u001b[39m, \u001b[38;5;241m255\u001b[39m, \u001b[38;5;241m255\u001b[39m, \u001b[38;5;241m255\u001b[39m))\n",
      "\u001b[1;31mAttributeError\u001b[0m: 'ImageDraw' object has no attribute 'textsize'"
     ]
    },
    {
     "ename": "",
     "evalue": "",
     "output_type": "error",
     "traceback": [
      "\u001b[1;31mThe Kernel crashed while executing code in the current cell or a previous cell. \n",
      "\u001b[1;31mPlease review the code in the cell(s) to identify a possible cause of the failure. \n",
      "\u001b[1;31mClick <a href='https://aka.ms/vscodeJupyterKernelCrash'>here</a> for more info. \n",
      "\u001b[1;31mView Jupyter <a href='command:jupyter.viewOutput'>log</a> for further details."
     ]
    }
   ],
   "source": [
    "import face_recognition\n",
    "import numpy as np\n",
    "\n",
    "from PIL import Image, ImageDraw\n",
    "\n",
    "\n",
    "def get_encodings():\n",
    "    known_face_encodings = []\n",
    "    known_face_names = []\n",
    "\n",
    "    for student in students:\n",
    "        for face in students_faces[student]:\n",
    "            image = face_recognition.load_image_file(face)\n",
    "            face_encoding = face_recognition.face_encodings(image)[0]\n",
    "            known_face_encodings.append(face_encoding)\n",
    "            known_face_names.append(student)\n",
    "\n",
    "    return known_face_encodings, known_face_names\n",
    "\n",
    "\n",
    "def recognize_faces(known_face_encodings, known_face_names, class_image):\n",
    "    # Load an image with an unknown face\n",
    "    unknown_image = face_recognition.load_image_file(class_image)\n",
    "\n",
    "    # Find all the faces and face encodings in the unknown image\n",
    "    face_locations = face_recognition.face_locations(unknown_image)\n",
    "    face_encodings = face_recognition.face_encodings(unknown_image, face_locations)\n",
    "\n",
    "    # Co\n",
    "known_face_encodings, known_face_names = get_encodings()\n",
    "recognize_faces(known_face_encodings, known_face_names, class_image)"
   ]
  },
  {
   "cell_type": "code",
   "execution_count": null,
   "id": "30a84e92",
   "metadata": {},
   "outputs": [],
   "source": []
  }
 ],
 "metadata": {
  "kernelspec": {
   "display_name": "Python 3",
   "language": "python",
   "name": "python3"
  },
  "language_info": {
   "codemirror_mode": {
    "name": "ipython",
    "version": 3
   },
   "file_extension": ".py",
   "mimetype": "text/x-python",
   "name": "python",
   "nbconvert_exporter": "python",
   "pygments_lexer": "ipython3",
   "version": "3.10.8"
  }
 },
 "nbformat": 4,
 "nbformat_minor": 5
}
